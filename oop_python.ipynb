{
  "cells": [
    {
      "cell_type": "markdown",
      "metadata": {
        "id": "nmLs_4udElkF"
      },
      "source": [
        "# LAB | Object-Oriented Programming (OOP) in Python"
      ]
    },
    {
      "cell_type": "markdown",
      "metadata": {
        "id": "ke5GysdjElkK"
      },
      "source": [
        "## Overview\n",
        "This exercise notebook will help you practice Object-Oriented Programming concepts in Python. You will create classes, instantiate objects, and use inheritance to build more complex structures.\n",
        "\n",
        "## Instructions\n",
        "- Complete each exercise by writing the appropriate code in the provided space.\n",
        "- Test your code to ensure it works as expected.\n",
        "- Use the hints provided if you get stuck."
      ]
    },
    {
      "cell_type": "markdown",
      "metadata": {
        "id": "53XXpX1AElkM"
      },
      "source": [
        "### Exercise 1: Create a Class with Instance Attributes\n",
        "Write a Python program to create a `Vehicle` class with `max_speed` and `mileage` instance attributes."
      ]
    },
    {
      "cell_type": "code",
      "execution_count": 25,
      "metadata": {
        "colab": {
          "base_uri": "https://localhost:8080/"
        },
        "id": "uzydMmv6ElkP",
        "outputId": "5a87a87f-8eaa-49c1-9acd-fe1d566f2683"
      },
      "outputs": [
        {
          "output_type": "stream",
          "name": "stdout",
          "text": [
            "200 15000\n"
          ]
        }
      ],
      "source": [
        "# Your code here\n",
        "# Define the Vehicle class with an initializer (__init__) method\n",
        "class Vehicle:\n",
        "    # The __init__ method is called when a new object of Vehicle is created\n",
        "    def __init__(self, max_speed, mileage):\n",
        "        # Initialize the max_speed and mileage attributes of the Vehicle object\n",
        "        self.max_speed = max_speed\n",
        "        self.mileage = mileage\n",
        "\n",
        "# Create an instance of the Vehicle class with max_speed 200 and mileage 15000\n",
        "modelX = Vehicle(200, 15000)\n",
        "\n",
        "# Print the max_speed and mileage of the modelX object\n",
        "print(modelX.max_speed, modelX.mileage)  # Expected output: 200 15000"
      ]
    },
    {
      "cell_type": "markdown",
      "metadata": {
        "id": "0wZo74XhElkR"
      },
      "source": [
        "### Exercise 2: Create a Vehicle Class Without Any Variables and Methods\n",
        "Create a `Vehicle` class without any variables or methods."
      ]
    },
    {
      "cell_type": "code",
      "execution_count": 26,
      "metadata": {
        "colab": {
          "base_uri": "https://localhost:8080/"
        },
        "id": "fP9SaYQ0ElkT",
        "outputId": "850c26ba-0ee2-453b-fabf-53fd32af0a8d"
      },
      "outputs": [
        {
          "output_type": "stream",
          "name": "stdout",
          "text": [
            "<class '__main__.Vehicle'>\n"
          ]
        }
      ],
      "source": [
        "# Your code here\n",
        "# Define an empty Vehicle class without any variables or method\n",
        "class Vehicle:\n",
        "    pass  # The class has no properties or method\n",
        "\n",
        "# Create an instance of the Vehicle clas\n",
        "my_vehicle = Vehicle()\n",
        "\n",
        "# Print the type of the my_vehicle object to confirm it's of class Vehicle\n",
        "print(type(my_vehicle))  # Expected output: <class '__main__.Vehicle'>"
      ]
    },
    {
      "cell_type": "markdown",
      "metadata": {
        "id": "7RIXIqJHElkV"
      },
      "source": [
        "### Exercise 3: Create a Child Class Bus\n",
        "Create a child class `Bus` that will inherit all of the variables and methods of the `Vehicle` class."
      ]
    },
    {
      "cell_type": "code",
      "execution_count": 24,
      "metadata": {
        "colab": {
          "base_uri": "https://localhost:8080/"
        },
        "id": "bibqiuMXElkW",
        "outputId": "33936532-e751-4ae2-c516-e84f82767b7a"
      },
      "outputs": [
        {
          "output_type": "stream",
          "name": "stdout",
          "text": [
            "<class '__main__.Bus'>\n"
          ]
        }
      ],
      "source": [
        "# Your code here\n",
        "# Define the parent class Vehicle\n",
        "class Vehicle:\n",
        "    pass  # Placeholder for future methods and attributes\n",
        "\n",
        "# Define the child class Bus that inherits from Vehicle\n",
        "class Bus(Vehicle):\n",
        "    pass  # Inherits all properties from Vehicle (currently empty)\n",
        "\n",
        "# Create an instance of the Bus class\n",
        "school_bus = Bus()\n",
        "\n",
        "# Print the type of the school_bus object to check its class\n",
        "print(type(school_bus))  # Expected output: <class '__main__.Bus'>\n"
      ]
    },
    {
      "cell_type": "markdown",
      "metadata": {
        "id": "C5YvJZvuElkY"
      },
      "source": [
        "### Exercise 4: Class Inheritance with Method Overriding\n",
        "Create a `Bus` class that inherits from the `Vehicle` class. Override the `fare()` method to include an extra charge for maintenance."
      ]
    },
    {
      "cell_type": "code",
      "execution_count": 23,
      "metadata": {
        "colab": {
          "base_uri": "https://localhost:8080/"
        },
        "id": "DFnp3pAMElkZ",
        "outputId": "ae72a08d-7a3b-49a2-ad3d-c7271be1ba93"
      },
      "outputs": [
        {
          "output_type": "stream",
          "name": "stdout",
          "text": [
            "Base fare with extra charge\n"
          ]
        }
      ],
      "source": [
        "# Your code here\n",
        "# Define the parent class Vehicle\n",
        "class Vehicle:\n",
        "    def fare(self):\n",
        "        # Returns the base fare for a vehicle\n",
        "        return \"Base fare\"\n",
        "\n",
        "# Define the child class Bus that inherits from Vehicle\n",
        "class Bus(Vehicle):\n",
        "    def fare(self):\n",
        "        # Calls the fare method from the parent class and adds an extra charge\n",
        "        return super().fare() + \" with extra charge\"\n",
        "\n",
        "# Create an instance of the Bus class\n",
        "school_bus = Bus()\n",
        "\n",
        "# Print the fare for the school bus, including the extra charge\n",
        "print(school_bus.fare())  # Expected output: \"Base fare with extra charge\"\n"
      ]
    },
    {
      "cell_type": "markdown",
      "metadata": {
        "id": "yq_HAvBWElka"
      },
      "source": [
        "### Exercise 5: Define a Class Attribute\n",
        "Define a property that must have the same value for every class instance (object). Set a default value for `color`."
      ]
    },
    {
      "cell_type": "code",
      "execution_count": 22,
      "metadata": {
        "colab": {
          "base_uri": "https://localhost:8080/"
        },
        "id": "BPTCH-TJElka",
        "outputId": "c9f37541-7230-4623-8953-9e4ca164a0e6"
      },
      "outputs": [
        {
          "output_type": "stream",
          "name": "stdout",
          "text": [
            "White\n"
          ]
        }
      ],
      "source": [
        "# Your code here\n",
        "# Define the Vehicle class\n",
        "class Vehicle:\n",
        "    # Class attribute (shared by all instances)\n",
        "    color = \"White\"\n",
        "\n",
        "    def __init__(self, name, max_speed, mileage):\n",
        "        # Instance attributes (specific to each object)\n",
        "        self.name = name\n",
        "        self.max_speed = max_speed\n",
        "        self.mileage = mileage\n",
        "\n",
        "# Create an instance of the Vehicle class\n",
        "school_bus = Vehicle(\"School Volvo\", 180, 12)\n",
        "\n",
        "# Print the color of the school bus (inherited from the class attribute)\n",
        "print(school_bus.color)  # Expected output: \"White\"\n"
      ]
    },
    {
      "cell_type": "markdown",
      "metadata": {
        "id": "gCPTxzhYElkb"
      },
      "source": [
        "### Exercise 6: Class Inheritance with Default Fare Calculation\n",
        "Create a `Bus` child class that inherits from the `Vehicle` class. The default fare charge of any vehicle is `seating capacity * 100`. If the vehicle is a bus instance, add an extra 10% on the full fare as a maintenance charge."
      ]
    },
    {
      "cell_type": "code",
      "execution_count": 21,
      "metadata": {
        "colab": {
          "base_uri": "https://localhost:8080/"
        },
        "id": "GTowwkB9Elkc",
        "outputId": "cbd966fe-0dfe-4d44-9f81-d2ec82981733"
      },
      "outputs": [
        {
          "output_type": "stream",
          "name": "stdout",
          "text": [
            "Total Bus fare is: 5500.0\n"
          ]
        }
      ],
      "source": [
        "# Your code here\n",
        "# Parent class: Vehicle\n",
        "class Vehicle:\n",
        "    def __init__(self, name, mileage, capacity):\n",
        "        # Initializing attributes for the vehicle\n",
        "        self.name = name\n",
        "        self.mileage = mileage\n",
        "        self.capacity = capacity\n",
        "\n",
        "    def fare(self):\n",
        "        # Base fare calculation: capacity * 100\n",
        "        return self.capacity * 100\n",
        "\n",
        "# Child class: Bus (inherits from Vehicle)\n",
        "class Bus(Vehicle):\n",
        "    def fare(self):\n",
        "        # Get the base fare from the Vehicle class\n",
        "        base_fare = super().fare()\n",
        "        # Add 10% extra charge for maintenance\n",
        "        return base_fare + (0.1 * base_fare)\n",
        "\n",
        "# Creating an instance of Bus\n",
        "school_bus = Bus(\"School Volvo\", 12, 50)\n",
        "\n",
        "# Printing the total bus fare including the maintenance charge\n",
        "print(\"Total Bus fare is:\", school_bus.fare())  # Expected output: 5500.0\n"
      ]
    },
    {
      "cell_type": "markdown",
      "metadata": {
        "id": "3nySiy35Elkd"
      },
      "source": [
        "### Exercise 7: Check Type of an Object\n",
        "Write a program to determine which class a given object belongs to."
      ]
    },
    {
      "cell_type": "code",
      "execution_count": 7,
      "metadata": {
        "colab": {
          "base_uri": "https://localhost:8080/"
        },
        "id": "u7jaFXvHElkd",
        "outputId": "425a41e1-479c-4c7b-9576-92437528dcd9"
      },
      "outputs": [
        {
          "output_type": "stream",
          "name": "stdout",
          "text": [
            "<class '__main__.Bus'>\n"
          ]
        }
      ],
      "source": [
        "# Your code here\n",
        "school_bus = Bus(\"School Volvo\", 12, 50)\n",
        "print(type(school_bus))  # Expected output: <class '__main__.Bus'>"
      ]
    },
    {
      "cell_type": "markdown",
      "metadata": {
        "id": "-ROrW8JlElke"
      },
      "source": [
        "### Exercise 8: Check Instance of Class\n",
        "Determine if `school_bus` is also an instance of the `Vehicle` class.\n"
      ]
    },
    {
      "cell_type": "code",
      "execution_count": 20,
      "metadata": {
        "colab": {
          "base_uri": "https://localhost:8080/"
        },
        "id": "MOPgQKZ4Elkf",
        "outputId": "446a9a43-cc59-41f5-9021-54f679ea29a6"
      },
      "outputs": [
        {
          "output_type": "stream",
          "name": "stdout",
          "text": [
            "True\n"
          ]
        }
      ],
      "source": [
        "# Your code here\n",
        "# Creating an instance of Bus\n",
        "school_bus = Bus(\"School Volvo\", 12, 50)\n",
        "\n",
        "# Checking if school_bus is an instance of Vehicle\n",
        "print(isinstance(school_bus, Vehicle))  # Expected output: True"
      ]
    },
    {
      "cell_type": "markdown",
      "metadata": {
        "id": "mgXBhz43Elkg"
      },
      "source": [
        "### Exercise Completion  \n",
        "Once you have completed all exercises:\n",
        "- Review your solutions.\n",
        "- Ensure your code is well-documented with comments explaining your logic.\n",
        "- Save your notebook for submission or further review.\n",
        "\n",
        "Happy coding! Enjoy exploring Object-Oriented Programming with Python!\n"
      ]
    }
  ],
  "metadata": {
    "kernelspec": {
      "display_name": ".venv",
      "language": "python",
      "name": "python3"
    },
    "language_info": {
      "codemirror_mode": {
        "name": "ipython",
        "version": 3
      },
      "file_extension": ".py",
      "mimetype": "text/x-python",
      "name": "python",
      "nbconvert_exporter": "python",
      "pygments_lexer": "ipython3",
      "version": "3.8.0"
    },
    "colab": {
      "provenance": []
    }
  },
  "nbformat": 4,
  "nbformat_minor": 0
}